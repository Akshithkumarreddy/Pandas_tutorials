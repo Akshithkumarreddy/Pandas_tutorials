{
  "cells": [
    {
      "cell_type": "markdown",
      "metadata": {
        "id": "view-in-github",
        "colab_type": "text"
      },
      "source": [
        "<a href=\"https://colab.research.google.com/github/Akshithkumarreddy/Pandas_tutorials/blob/main/25-Working%20with%20Methods%20in%20Pandas%20-%20Part%202%20.ipynb\" target=\"_parent\"><img src=\"https://colab.research.google.com/assets/colab-badge.svg\" alt=\"Open In Colab\"/></a>"
      ]
    },
    {
      "cell_type": "markdown",
      "metadata": {
        "id": "uJ9SQRaQTpUs"
      },
      "source": [
        "# Working with Methods in Pandas - Part 2"
      ]
    },
    {
      "cell_type": "code",
      "execution_count": null,
      "metadata": {
        "id": "lH9VXWx2TpUt"
      },
      "outputs": [],
      "source": [
        "import pandas as pd\n",
        "import numpy as np"
      ]
    },
    {
      "cell_type": "markdown",
      "metadata": {
        "id": "tsNtLsySTpUt"
      },
      "source": [
        "## to_datetime method"
      ]
    },
    {
      "cell_type": "code",
      "execution_count": null,
      "metadata": {
        "id": "0I9v-e2ETpUt",
        "outputId": "8994fa6e-75e3-4065-ab28-d4606b943d12"
      },
      "outputs": [
        {
          "name": "stderr",
          "output_type": "stream",
          "text": [
            "C:\\Users\\lenovo\\AppData\\Local\\Temp\\ipykernel_15352\\2752892349.py:1: UserWarning: Parsing '15/08/2019' in DD/MM/YYYY format. Provide format or specify infer_datetime_format=True for consistent parsing.\n",
            "  pd.to_datetime(\"15/08/2019\")\n"
          ]
        },
        {
          "data": {
            "text/plain": [
              "Timestamp('2019-08-15 00:00:00')"
            ]
          },
          "execution_count": 2,
          "metadata": {},
          "output_type": "execute_result"
        }
      ],
      "source": [
        "pd.to_datetime(\"15/08/2019\")"
      ]
    },
    {
      "cell_type": "code",
      "execution_count": null,
      "metadata": {
        "id": "4Yl5kNc2TpUt"
      },
      "outputs": [],
      "source": [
        "date=[\"2019-01-05\",\"jan 6, 2019\",\n",
        "      \"7/05/2019\",\"2019/01/9\",\"20190110\"]"
      ]
    },
    {
      "cell_type": "code",
      "execution_count": null,
      "metadata": {
        "id": "elPzTXuTTpUt",
        "outputId": "56435e69-5a0a-41b8-f5d0-aeaccdef1a74"
      },
      "outputs": [
        {
          "data": {
            "text/plain": [
              "DatetimeIndex(['2019-01-05', '2019-01-06', '2019-07-05', '2019-01-09',\n",
              "               '2019-01-10'],\n",
              "              dtype='datetime64[ns]', freq=None)"
            ]
          },
          "execution_count": 4,
          "metadata": {},
          "output_type": "execute_result"
        }
      ],
      "source": [
        "pd.to_datetime(date)"
      ]
    },
    {
      "cell_type": "code",
      "execution_count": null,
      "metadata": {
        "id": "0lUvjtm9TpUt",
        "outputId": "a21eed2c-4e04-42f1-83a5-83dffa680a4d"
      },
      "outputs": [
        {
          "data": {
            "text/plain": [
              "Timestamp('2019-03-05 00:00:00')"
            ]
          },
          "execution_count": 5,
          "metadata": {},
          "output_type": "execute_result"
        }
      ],
      "source": [
        "pd.to_datetime(\"03/05/2019\")"
      ]
    },
    {
      "cell_type": "code",
      "execution_count": null,
      "metadata": {
        "id": "XW8QUrIxTpUt",
        "outputId": "68a6b971-f7c9-4acd-9f3e-89d4a7312cb0"
      },
      "outputs": [
        {
          "data": {
            "text/plain": [
              "Timestamp('2019-03-05 00:00:00')"
            ]
          },
          "execution_count": 6,
          "metadata": {},
          "output_type": "execute_result"
        }
      ],
      "source": [
        "pd.to_datetime(\"05/03/2019\", dayfirst=True)"
      ]
    },
    {
      "cell_type": "code",
      "execution_count": null,
      "metadata": {
        "id": "y_yacflpTpUu",
        "outputId": "91d8ba0a-174d-479a-9a91-b958ec88caa5"
      },
      "outputs": [
        {
          "data": {
            "text/plain": [
              "Timestamp('2019-03-05 00:00:00')"
            ]
          },
          "execution_count": 7,
          "metadata": {},
          "output_type": "execute_result"
        }
      ],
      "source": [
        "pd.to_datetime(\"05*03*2019\",\n",
        "               format=\"%d*%m*%Y\" )"
      ]
    },
    {
      "cell_type": "code",
      "execution_count": null,
      "metadata": {
        "id": "jGNF9sjBTpUu",
        "outputId": "ac25e825-b66a-47dc-8002-a6186d92a732"
      },
      "outputs": [
        {
          "data": {
            "text/plain": [
              "Timestamp('2019-03-05 00:00:00')"
            ]
          },
          "execution_count": 8,
          "metadata": {},
          "output_type": "execute_result"
        }
      ],
      "source": [
        "pd.to_datetime(\"05$03$2019\",\n",
        "               format=\"%d$%m$%Y\")"
      ]
    },
    {
      "cell_type": "code",
      "execution_count": null,
      "metadata": {
        "id": "UMX_RhNATpUu"
      },
      "outputs": [],
      "source": [
        "date=[\"2019-01-05\",\n",
        "     \"jan 6, 2019\",\n",
        "     \"7/05/2019\",\n",
        "     \"2019/01/9\",\n",
        "     \"20190110\"]"
      ]
    },
    {
      "cell_type": "code",
      "execution_count": null,
      "metadata": {
        "id": "i7xLdg1XTpUu",
        "outputId": "c0aefb8d-3e3d-4739-a606-5af704cf33a3"
      },
      "outputs": [
        {
          "data": {
            "text/plain": [
              "DatetimeIndex(['2019-01-05', '2019-01-06', '2019-07-05', '2019-01-09',\n",
              "               '2019-01-10'],\n",
              "              dtype='datetime64[ns]', freq=None)"
            ]
          },
          "execution_count": 10,
          "metadata": {},
          "output_type": "execute_result"
        }
      ],
      "source": [
        "pd.to_datetime(date)"
      ]
    },
    {
      "cell_type": "code",
      "execution_count": null,
      "metadata": {
        "id": "T9-038BoTpUu",
        "outputId": "c7766e22-a3b8-433e-d6aa-a50fe00ddbb3"
      },
      "outputs": [
        {
          "data": {
            "text/plain": [
              "DatetimeIndex(['2019-01-05', '2019-01-06', '2019-07-05', '2019-01-09',\n",
              "               '2019-01-10'],\n",
              "              dtype='datetime64[ns]', freq=None)"
            ]
          },
          "execution_count": 11,
          "metadata": {},
          "output_type": "execute_result"
        }
      ],
      "source": [
        "pd.to_datetime(date, errors='coerce')"
      ]
    },
    {
      "cell_type": "code",
      "execution_count": null,
      "metadata": {
        "id": "PMAPKjtsTpUu"
      },
      "outputs": [],
      "source": [
        "t=1000000000"
      ]
    },
    {
      "cell_type": "code",
      "execution_count": null,
      "metadata": {
        "id": "L2OjuiS-TpUu",
        "outputId": "62d9c762-b0ca-48d1-c19d-693301fd86d5"
      },
      "outputs": [
        {
          "data": {
            "text/plain": [
              "Timestamp('2001-09-09 01:46:40')"
            ]
          },
          "execution_count": 13,
          "metadata": {},
          "output_type": "execute_result"
        }
      ],
      "source": [
        "pd.to_datetime(t, unit=\"s\")"
      ]
    },
    {
      "cell_type": "markdown",
      "metadata": {
        "id": "m2FqSdkPTpUu"
      },
      "source": [
        "## Frequency and Date Offsets"
      ]
    },
    {
      "cell_type": "code",
      "execution_count": null,
      "metadata": {
        "id": "Aj7zOpg6TpUu",
        "outputId": "b274afb0-3c91-448b-a04d-4d7b97496796"
      },
      "outputs": [
        {
          "data": {
            "text/plain": [
              "DatetimeIndex(['2010-01-01 00:00:00', '2010-01-01 04:00:00',\n",
              "               '2010-01-01 08:00:00', '2010-01-01 12:00:00',\n",
              "               '2010-01-01 16:00:00', '2010-01-01 20:00:00',\n",
              "               '2010-01-02 00:00:00', '2010-01-02 04:00:00',\n",
              "               '2010-01-02 08:00:00', '2010-01-02 12:00:00',\n",
              "               '2010-01-02 16:00:00', '2010-01-02 20:00:00',\n",
              "               '2010-01-03 00:00:00'],\n",
              "              dtype='datetime64[ns]', freq='4H')"
            ]
          },
          "execution_count": 14,
          "metadata": {},
          "output_type": "execute_result"
        }
      ],
      "source": [
        "pd.date_range(\n",
        "    \"2010-01-01\",\"2010-01-03\", freq=\"4h\")"
      ]
    },
    {
      "cell_type": "code",
      "execution_count": null,
      "metadata": {
        "id": "0x4aJgk3TpUu",
        "outputId": "facf05ef-eacb-4b15-b2ce-72cac6384f34"
      },
      "outputs": [
        {
          "data": {
            "text/plain": [
              "DatetimeIndex(['2010-01-24', '2010-02-28', '2010-03-28', '2010-04-25',\n",
              "               '2010-05-23', '2010-06-27', '2010-07-25', '2010-08-22'],\n",
              "              dtype='datetime64[ns]', freq='WOM-4SUN')"
            ]
          },
          "execution_count": 15,
          "metadata": {},
          "output_type": "execute_result"
        }
      ],
      "source": [
        "pd.date_range(\n",
        "    \"2010-01-01\",\"2010-09-03\",\n",
        "    freq=\"WOM-4SUN\")"
      ]
    },
    {
      "cell_type": "markdown",
      "metadata": {
        "id": "xTgCDXgRTpUu"
      },
      "source": [
        "## Period and PeriodIndex"
      ]
    },
    {
      "cell_type": "code",
      "execution_count": null,
      "metadata": {
        "id": "JdUIqcYLTpUu",
        "outputId": "9c313e6b-cdd9-4010-a605-75f64718848e"
      },
      "outputs": [
        {
          "data": {
            "text/plain": [
              "Period('2020', 'A-DEC')"
            ]
          },
          "execution_count": 16,
          "metadata": {},
          "output_type": "execute_result"
        }
      ],
      "source": [
        "p=pd.Period(2020)\n",
        "p"
      ]
    },
    {
      "cell_type": "code",
      "execution_count": null,
      "metadata": {
        "id": "VULNH025TpUu",
        "outputId": "29d785af-9866-4424-a596-7469d72d9067"
      },
      "outputs": [
        {
          "data": {
            "text/plain": [
              "['__add__',\n",
              " '__array_priority__',\n",
              " '__class__',\n",
              " '__delattr__',\n",
              " '__dict__',\n",
              " '__dir__',\n",
              " '__doc__',\n",
              " '__eq__',\n",
              " '__format__',\n",
              " '__ge__',\n",
              " '__getattribute__',\n",
              " '__gt__',\n",
              " '__hash__',\n",
              " '__init__',\n",
              " '__init_subclass__',\n",
              " '__le__',\n",
              " '__lt__',\n",
              " '__module__',\n",
              " '__ne__',\n",
              " '__new__',\n",
              " '__pyx_vtable__',\n",
              " '__radd__',\n",
              " '__reduce__',\n",
              " '__reduce_ex__',\n",
              " '__repr__',\n",
              " '__rsub__',\n",
              " '__setattr__',\n",
              " '__setstate__',\n",
              " '__sizeof__',\n",
              " '__str__',\n",
              " '__sub__',\n",
              " '__subclasshook__',\n",
              " '__weakref__',\n",
              " '_add_offset',\n",
              " '_add_timedeltalike_scalar',\n",
              " '_dtype',\n",
              " '_from_ordinal',\n",
              " '_get_to_timestamp_base',\n",
              " '_maybe_convert_freq',\n",
              " '_require_matching_freq',\n",
              " 'asfreq',\n",
              " 'day',\n",
              " 'day_of_week',\n",
              " 'day_of_year',\n",
              " 'dayofweek',\n",
              " 'dayofyear',\n",
              " 'days_in_month',\n",
              " 'daysinmonth',\n",
              " 'end_time',\n",
              " 'freq',\n",
              " 'freqstr',\n",
              " 'hour',\n",
              " 'is_leap_year',\n",
              " 'minute',\n",
              " 'month',\n",
              " 'now',\n",
              " 'ordinal',\n",
              " 'quarter',\n",
              " 'qyear',\n",
              " 'second',\n",
              " 'start_time',\n",
              " 'strftime',\n",
              " 'to_timestamp',\n",
              " 'week',\n",
              " 'weekday',\n",
              " 'weekofyear',\n",
              " 'year']"
            ]
          },
          "execution_count": 17,
          "metadata": {},
          "output_type": "execute_result"
        }
      ],
      "source": [
        "dir(p)"
      ]
    },
    {
      "cell_type": "code",
      "execution_count": null,
      "metadata": {
        "id": "ipcdoS4eTpUu",
        "outputId": "f8708813-48a6-4d9a-97a2-f89f21e31efe"
      },
      "outputs": [
        {
          "data": {
            "text/plain": [
              "Timestamp('2020-01-01 00:00:00')"
            ]
          },
          "execution_count": 18,
          "metadata": {},
          "output_type": "execute_result"
        }
      ],
      "source": [
        "p.start_time"
      ]
    },
    {
      "cell_type": "code",
      "execution_count": null,
      "metadata": {
        "id": "T4e-JsPBTpUu",
        "outputId": "32ae1f64-f533-4827-9e4a-a9dfb929b510"
      },
      "outputs": [
        {
          "data": {
            "text/plain": [
              "Timestamp('2020-12-31 23:59:59.999999999')"
            ]
          },
          "execution_count": 19,
          "metadata": {},
          "output_type": "execute_result"
        }
      ],
      "source": [
        "p.end_time"
      ]
    },
    {
      "cell_type": "code",
      "execution_count": null,
      "metadata": {
        "id": "hqxVOeV5TpUv",
        "outputId": "12187b68-4713-44b1-d393-5b4cc9fa3150"
      },
      "outputs": [
        {
          "data": {
            "text/plain": [
              "Period('2020-01', 'M')"
            ]
          },
          "execution_count": 20,
          "metadata": {},
          "output_type": "execute_result"
        }
      ],
      "source": [
        "a=pd.Period(\"2020-01\", freq=\"M\")\n",
        "a"
      ]
    },
    {
      "cell_type": "code",
      "execution_count": null,
      "metadata": {
        "id": "08tY9oYrTpUv",
        "outputId": "80f4dcf4-47b5-47b2-f376-36106ecfa626"
      },
      "outputs": [
        {
          "data": {
            "text/plain": [
              "Period('2020-06', 'M')"
            ]
          },
          "execution_count": 21,
          "metadata": {},
          "output_type": "execute_result"
        }
      ],
      "source": [
        "a+5"
      ]
    },
    {
      "cell_type": "code",
      "execution_count": null,
      "metadata": {
        "id": "GbHQig5iTpUv",
        "outputId": "bcceedea-d5ab-4bbc-8b4d-b67ad418bfa3"
      },
      "outputs": [
        {
          "data": {
            "text/plain": [
              "Period('2019-10', 'M')"
            ]
          },
          "execution_count": 22,
          "metadata": {},
          "output_type": "execute_result"
        }
      ],
      "source": [
        "a-3"
      ]
    },
    {
      "cell_type": "code",
      "execution_count": null,
      "metadata": {
        "id": "Y4cx3QiPTpUv",
        "outputId": "95166f4e-5b21-45e1-975f-42f2567c0ba9"
      },
      "outputs": [
        {
          "data": {
            "text/plain": [
              "<5 * YearEnds: month=12>"
            ]
          },
          "execution_count": 23,
          "metadata": {},
          "output_type": "execute_result"
        }
      ],
      "source": [
        "p-pd.Period(\"2015\")"
      ]
    },
    {
      "cell_type": "code",
      "execution_count": null,
      "metadata": {
        "id": "RPHtinU2TpUv",
        "outputId": "a00c03d9-ce9b-4424-ec4f-620adb2b3e61"
      },
      "outputs": [
        {
          "data": {
            "text/plain": [
              "PeriodIndex(['2019-01', '2019-02', '2019-03', '2019-04', '2019-05', '2019-06',\n",
              "             '2019-07', '2019-08'],\n",
              "            dtype='period[M]')"
            ]
          },
          "execution_count": 24,
          "metadata": {},
          "output_type": "execute_result"
        }
      ],
      "source": [
        "rng=pd.period_range(\n",
        "    \"2019-01-01\",\"2019-08-30\",freq=\"M\")\n",
        "rng"
      ]
    },
    {
      "cell_type": "code",
      "execution_count": null,
      "metadata": {
        "id": "fJwUsK5ITpUv",
        "outputId": "c7643a99-2a81-4e9b-f466-cb570e64a0da"
      },
      "outputs": [
        {
          "data": {
            "text/plain": [
              "2019-01    0\n",
              "2019-02    1\n",
              "2019-03    2\n",
              "2019-04    3\n",
              "2019-05    4\n",
              "2019-06    5\n",
              "2019-07    6\n",
              "2019-08    7\n",
              "Freq: M, dtype: int64"
            ]
          },
          "execution_count": 25,
          "metadata": {},
          "output_type": "execute_result"
        }
      ],
      "source": [
        "pd.Series(range(8),index=rng)"
      ]
    },
    {
      "cell_type": "code",
      "execution_count": null,
      "metadata": {
        "id": "1GfUj7OGTpUv",
        "outputId": "6cb1d53b-7685-4a3e-9dee-6b36aa19e1db"
      },
      "outputs": [
        {
          "data": {
            "text/plain": [
              "Period('2019', 'A-DEC')"
            ]
          },
          "execution_count": 26,
          "metadata": {},
          "output_type": "execute_result"
        }
      ],
      "source": [
        "p=pd.Period(\"2019\",freq=\"A-DEC\")\n",
        "p"
      ]
    },
    {
      "cell_type": "code",
      "execution_count": null,
      "metadata": {
        "id": "TkCiLe3pTpUv",
        "outputId": "a556e8fe-dcec-4bc6-dcbc-997a0f19e883"
      },
      "outputs": [
        {
          "data": {
            "text/plain": [
              "Period('2019-01', 'M')"
            ]
          },
          "execution_count": 27,
          "metadata": {},
          "output_type": "execute_result"
        }
      ],
      "source": [
        "p.asfreq('M', how='start')"
      ]
    },
    {
      "cell_type": "code",
      "execution_count": null,
      "metadata": {
        "id": "AS565mgDTpUv",
        "outputId": "18094ea3-cbf3-4d78-8c21-5a652fb28246"
      },
      "outputs": [
        {
          "data": {
            "text/plain": [
              "Period('2019-12', 'M')"
            ]
          },
          "execution_count": 28,
          "metadata": {},
          "output_type": "execute_result"
        }
      ],
      "source": [
        "p.asfreq(\"M\",how=\"end\")"
      ]
    },
    {
      "cell_type": "code",
      "execution_count": null,
      "metadata": {
        "id": "3_rVMDULTpUv"
      },
      "outputs": [],
      "source": [
        "p=pd.Period(\"2019Q4\", freq=\"Q-DEC\")"
      ]
    },
    {
      "cell_type": "code",
      "execution_count": null,
      "metadata": {
        "id": "pbyPuf51TpUv",
        "outputId": "f9f5d7dd-a658-44d9-815f-47ecdb20ad87"
      },
      "outputs": [
        {
          "data": {
            "text/plain": [
              "Period('2019Q4', 'Q-FEB')"
            ]
          },
          "execution_count": 30,
          "metadata": {},
          "output_type": "execute_result"
        }
      ],
      "source": [
        "p=pd.Period(\"2019Q4\", freq=\"Q-FEB\")\n",
        "p"
      ]
    },
    {
      "cell_type": "code",
      "execution_count": null,
      "metadata": {
        "id": "B0UwNA_BTpUv",
        "outputId": "960fa837-524b-4fe8-e9c6-9729cfb548dd"
      },
      "outputs": [
        {
          "data": {
            "text/plain": [
              "Timestamp('2019-02-28 23:59:59.999999999')"
            ]
          },
          "execution_count": 31,
          "metadata": {},
          "output_type": "execute_result"
        }
      ],
      "source": [
        "p.end_time"
      ]
    },
    {
      "cell_type": "code",
      "execution_count": null,
      "metadata": {
        "id": "dGQb37BkTpUv",
        "outputId": "6cb1e1b4-d331-456d-b4b2-0b3c945602be"
      },
      "outputs": [
        {
          "data": {
            "text/plain": [
              "Period('2018-12-01', 'D')"
            ]
          },
          "execution_count": 32,
          "metadata": {},
          "output_type": "execute_result"
        }
      ],
      "source": [
        "p.asfreq('D', 'start')"
      ]
    },
    {
      "cell_type": "code",
      "execution_count": null,
      "metadata": {
        "id": "YGH6_KaxTpUv",
        "outputId": "8d70fa12-80c9-417e-a413-3a7a6f7b411b"
      },
      "outputs": [
        {
          "data": {
            "text/plain": [
              "PeriodIndex(['2019Q3', '2019Q4', '2020Q1', '2020Q2', '2020Q3', '2020Q4'], dtype='period[Q-JAN]')"
            ]
          },
          "execution_count": 33,
          "metadata": {},
          "output_type": "execute_result"
        }
      ],
      "source": [
        "rng=pd.period_range(\n",
        "    \"2019Q3\",\"2020Q4\", freq=\"Q-JAN\")\n",
        "rng"
      ]
    },
    {
      "cell_type": "code",
      "execution_count": null,
      "metadata": {
        "id": "QIsLMln7TpUw",
        "outputId": "318dd0de-53a1-4392-c6a4-11fec41764f6"
      },
      "outputs": [
        {
          "data": {
            "text/plain": [
              "2019Q3    0\n",
              "2019Q4    1\n",
              "2020Q1    2\n",
              "2020Q2    3\n",
              "2020Q3    4\n",
              "2020Q4    5\n",
              "Freq: Q-JAN, dtype: int64"
            ]
          },
          "execution_count": 34,
          "metadata": {},
          "output_type": "execute_result"
        }
      ],
      "source": [
        "ts=pd.Series(range(len(rng)),index=rng)\n",
        "ts"
      ]
    },
    {
      "cell_type": "code",
      "execution_count": null,
      "metadata": {
        "id": "sHHpvO79TpUz"
      },
      "outputs": [],
      "source": [
        "rng=pd.date_range(\n",
        "    \"2020-01-01\", periods=5, freq=\"M\")"
      ]
    },
    {
      "cell_type": "code",
      "execution_count": null,
      "metadata": {
        "id": "eYdw3U1iTpUz",
        "outputId": "e93328eb-a6ef-4adf-8171-dddcf6096960"
      },
      "outputs": [
        {
          "data": {
            "text/plain": [
              "2020-01-31    0\n",
              "2020-02-29    1\n",
              "2020-03-31    2\n",
              "2020-04-30    3\n",
              "2020-05-31    4\n",
              "Freq: M, dtype: int64"
            ]
          },
          "execution_count": 36,
          "metadata": {},
          "output_type": "execute_result"
        }
      ],
      "source": [
        "ts=pd.Series(range(len(rng)),index=rng)\n",
        "ts"
      ]
    },
    {
      "cell_type": "code",
      "execution_count": null,
      "metadata": {
        "id": "L-jRDiRbTpUz",
        "outputId": "f95cbaaf-c3f5-42f9-9822-d831aa5e2e5d"
      },
      "outputs": [
        {
          "data": {
            "text/plain": [
              "PeriodIndex(['2020-01', '2020-02', '2020-03', '2020-04', '2020-05'], dtype='period[M]')"
            ]
          },
          "execution_count": 37,
          "metadata": {},
          "output_type": "execute_result"
        }
      ],
      "source": [
        "pts=ts.to_period()\n",
        "pts.index"
      ]
    },
    {
      "cell_type": "code",
      "execution_count": null,
      "metadata": {
        "id": "T7yOBT6LTpUz",
        "outputId": "c1a31400-af9f-4931-9a82-09ce32bdd09a"
      },
      "outputs": [
        {
          "data": {
            "text/plain": [
              "PeriodIndex(['2020-01', '2020-02', '2020-03', '2020-04', '2020-05'], dtype='period[M]')"
            ]
          },
          "execution_count": 38,
          "metadata": {},
          "output_type": "execute_result"
        }
      ],
      "source": [
        "pts.index"
      ]
    }
  ],
  "metadata": {
    "kernelspec": {
      "display_name": "Python 3 (ipykernel)",
      "language": "python",
      "name": "python3"
    },
    "language_info": {
      "codemirror_mode": {
        "name": "ipython",
        "version": 3
      },
      "file_extension": ".py",
      "mimetype": "text/x-python",
      "name": "python",
      "nbconvert_exporter": "python",
      "pygments_lexer": "ipython3",
      "version": "3.8.12"
    },
    "colab": {
      "provenance": [],
      "include_colab_link": true
    }
  },
  "nbformat": 4,
  "nbformat_minor": 0
}