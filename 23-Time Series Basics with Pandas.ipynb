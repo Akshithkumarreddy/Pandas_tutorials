{
  "cells": [
    {
      "cell_type": "markdown",
      "metadata": {
        "id": "view-in-github",
        "colab_type": "text"
      },
      "source": [
        "<a href=\"https://colab.research.google.com/github/Akshithkumarreddy/Pandas_tutorials/blob/main/23-Time%20Series%20Basics%20with%20Pandas.ipynb\" target=\"_parent\"><img src=\"https://colab.research.google.com/assets/colab-badge.svg\" alt=\"Open In Colab\"/></a>"
      ]
    },
    {
      "cell_type": "markdown",
      "metadata": {
        "id": "gimqAyVzTZ8s"
      },
      "source": [
        "# Time Series Basics with Pandas"
      ]
    },
    {
      "cell_type": "markdown",
      "metadata": {
        "id": "PXmX0WxCTZ8t"
      },
      "source": [
        "## What is the time series?"
      ]
    },
    {
      "cell_type": "code",
      "execution_count": null,
      "metadata": {
        "id": "HVoeK9dATZ8t"
      },
      "outputs": [],
      "source": [
        "import pandas as pd\n",
        "import numpy as np\n",
        "from datetime import datetime"
      ]
    },
    {
      "cell_type": "code",
      "execution_count": null,
      "metadata": {
        "id": "IGQnOrG3TZ8t"
      },
      "outputs": [],
      "source": [
        "date=[datetime(2020,1,5),\n",
        "      datetime(2020,1,10),\n",
        "      datetime(2020,1,15),\n",
        "      datetime(2020,1,20),\n",
        "      datetime(2020,1,25)]"
      ]
    },
    {
      "cell_type": "code",
      "execution_count": null,
      "metadata": {
        "id": "wXX383pETZ8t",
        "outputId": "73cbb652-c34f-4fad-96eb-f14941cdea69"
      },
      "outputs": [
        {
          "data": {
            "text/plain": [
              "2020-01-05    1.021772\n",
              "2020-01-10    0.132016\n",
              "2020-01-15   -0.838591\n",
              "2020-01-20   -0.749657\n",
              "2020-01-25    1.043829\n",
              "dtype: float64"
            ]
          },
          "execution_count": 3,
          "metadata": {},
          "output_type": "execute_result"
        }
      ],
      "source": [
        "ts=pd.Series(np.random.randn(5),index=date)\n",
        "ts"
      ]
    },
    {
      "cell_type": "code",
      "execution_count": null,
      "metadata": {
        "id": "b4s8L-5TTZ8u",
        "outputId": "a9396d9e-a7ec-4711-f9ba-77ad2130cb45"
      },
      "outputs": [
        {
          "data": {
            "text/plain": [
              "DatetimeIndex(['2020-01-05', '2020-01-10', '2020-01-15', '2020-01-20',\n",
              "               '2020-01-25'],\n",
              "              dtype='datetime64[ns]', freq=None)"
            ]
          },
          "execution_count": 4,
          "metadata": {},
          "output_type": "execute_result"
        }
      ],
      "source": [
        "ts.index"
      ]
    },
    {
      "cell_type": "markdown",
      "metadata": {
        "id": "-XU9nH5cTZ8u"
      },
      "source": [
        "## Time Series Data Structures"
      ]
    },
    {
      "cell_type": "code",
      "execution_count": null,
      "metadata": {
        "id": "5UL3ivqRTZ8u",
        "outputId": "bb863704-5ecf-4108-8b8c-c8e78990c35a"
      },
      "outputs": [
        {
          "data": {
            "text/plain": [
              "Timestamp('2020-01-01 00:00:00')"
            ]
          },
          "execution_count": 5,
          "metadata": {},
          "output_type": "execute_result"
        }
      ],
      "source": [
        "pd.to_datetime(\"01/01/2020\")"
      ]
    },
    {
      "cell_type": "code",
      "execution_count": null,
      "metadata": {
        "id": "8Yc0TIA0TZ8u",
        "outputId": "defc765e-34fe-4c77-f1f6-e84d428a437b"
      },
      "outputs": [
        {
          "data": {
            "text/plain": [
              "DatetimeIndex(['2020-07-05', '2020-07-06', '2020-07-07', '2020-07-08'], dtype='datetime64[ns]', freq=None)"
            ]
          },
          "execution_count": 6,
          "metadata": {},
          "output_type": "execute_result"
        }
      ],
      "source": [
        "dates=pd.to_datetime(\n",
        "    [datetime(2020,7,5),\n",
        "     \"6th of July, 2020\",\n",
        "     \"2020-Jul-7\",\n",
        "     \"20200708\"])\n",
        "dates"
      ]
    },
    {
      "cell_type": "code",
      "execution_count": null,
      "metadata": {
        "id": "v8V06yz0TZ8u",
        "outputId": "2997fd51-f705-4764-ff69-819a3260481f"
      },
      "outputs": [
        {
          "data": {
            "text/plain": [
              "PeriodIndex(['2020-07-05', '2020-07-06', '2020-07-07', '2020-07-08'], dtype='period[D]', freq='D')"
            ]
          },
          "execution_count": 7,
          "metadata": {},
          "output_type": "execute_result"
        }
      ],
      "source": [
        "dates.to_period(\"D\")"
      ]
    },
    {
      "cell_type": "code",
      "execution_count": null,
      "metadata": {
        "id": "gmd7fDVQTZ8u",
        "outputId": "4181bda6-b651-44d2-8073-707ab9010007"
      },
      "outputs": [
        {
          "data": {
            "text/plain": [
              "TimedeltaIndex(['0 days', '1 days', '2 days', '3 days'], dtype='timedelta64[ns]', freq=None)"
            ]
          },
          "execution_count": 8,
          "metadata": {},
          "output_type": "execute_result"
        }
      ],
      "source": [
        "dates-dates[0]"
      ]
    },
    {
      "cell_type": "markdown",
      "metadata": {
        "id": "a4h-NHhJTZ8u"
      },
      "source": [
        "## Creating a Time Series"
      ]
    },
    {
      "cell_type": "code",
      "execution_count": null,
      "metadata": {
        "id": "MEb0s_xWTZ8u",
        "outputId": "a6dc1d8f-5d44-4baf-c5bd-bdc4a79f2c23"
      },
      "outputs": [
        {
          "data": {
            "text/plain": [
              "DatetimeIndex(['2020-08-15', '2020-08-16', '2020-08-17', '2020-08-18',\n",
              "               '2020-08-19', '2020-08-20', '2020-08-21', '2020-08-22',\n",
              "               '2020-08-23', '2020-08-24', '2020-08-25', '2020-08-26',\n",
              "               '2020-08-27', '2020-08-28', '2020-08-29', '2020-08-30',\n",
              "               '2020-08-31', '2020-09-01'],\n",
              "              dtype='datetime64[ns]', freq='D')"
            ]
          },
          "execution_count": 9,
          "metadata": {},
          "output_type": "execute_result"
        }
      ],
      "source": [
        "pd.date_range(\"2020-08-15\",\"2020-09-01\")"
      ]
    },
    {
      "cell_type": "code",
      "execution_count": null,
      "metadata": {
        "id": "YIGZyIUOTZ8u",
        "outputId": "1df9a008-0d3d-4e55-9161-068e9859ba54"
      },
      "outputs": [
        {
          "data": {
            "text/plain": [
              "DatetimeIndex(['2020-07-15', '2020-07-16', '2020-07-17', '2020-07-18',\n",
              "               '2020-07-19', '2020-07-20', '2020-07-21', '2020-07-22',\n",
              "               '2020-07-23', '2020-07-24'],\n",
              "              dtype='datetime64[ns]', freq='D')"
            ]
          },
          "execution_count": 10,
          "metadata": {},
          "output_type": "execute_result"
        }
      ],
      "source": [
        "pd.date_range('2020-07-15', periods=10)"
      ]
    },
    {
      "cell_type": "code",
      "execution_count": null,
      "metadata": {
        "id": "vd5mTO9CTZ8u",
        "outputId": "0c6954d4-e092-4cd1-f927-eb7536e1a739"
      },
      "outputs": [
        {
          "data": {
            "text/plain": [
              "DatetimeIndex(['2020-07-15 00:00:00', '2020-07-15 01:00:00',\n",
              "               '2020-07-15 02:00:00', '2020-07-15 03:00:00',\n",
              "               '2020-07-15 04:00:00', '2020-07-15 05:00:00',\n",
              "               '2020-07-15 06:00:00', '2020-07-15 07:00:00',\n",
              "               '2020-07-15 08:00:00', '2020-07-15 09:00:00'],\n",
              "              dtype='datetime64[ns]', freq='H')"
            ]
          },
          "execution_count": 11,
          "metadata": {},
          "output_type": "execute_result"
        }
      ],
      "source": [
        "pd.date_range(\"2020-07-15\",\n",
        "              periods=10,\n",
        "              freq=\"H\")"
      ]
    },
    {
      "cell_type": "code",
      "execution_count": null,
      "metadata": {
        "id": "-Ohy7lr5TZ8u",
        "outputId": "6f422eca-65f3-492e-952d-6859321ab864"
      },
      "outputs": [
        {
          "data": {
            "text/plain": [
              "PeriodIndex(['2020-10', '2020-11', '2020-12', '2021-01', '2021-02', '2021-03',\n",
              "             '2021-04', '2021-05', '2021-06', '2021-07'],\n",
              "            dtype='period[M]', freq='M')"
            ]
          },
          "execution_count": 12,
          "metadata": {},
          "output_type": "execute_result"
        }
      ],
      "source": [
        "pd.period_range(\"2020-10\",\n",
        "                periods=10,\n",
        "                freq=\"M\")"
      ]
    },
    {
      "cell_type": "code",
      "execution_count": null,
      "metadata": {
        "id": "C-xaMs2ATZ8v",
        "outputId": "9f024c37-4b34-40e4-b1aa-9c4daf672d75"
      },
      "outputs": [
        {
          "data": {
            "text/plain": [
              "TimedeltaIndex(['0 days 00:00:00', '0 days 01:00:00', '0 days 02:00:00',\n",
              "                '0 days 03:00:00', '0 days 04:00:00', '0 days 05:00:00',\n",
              "                '0 days 06:00:00', '0 days 07:00:00'],\n",
              "               dtype='timedelta64[ns]', freq='H')"
            ]
          },
          "execution_count": 13,
          "metadata": {},
          "output_type": "execute_result"
        }
      ],
      "source": [
        "pd.timedelta_range(0,periods=8,freq=\"H\")"
      ]
    },
    {
      "cell_type": "code",
      "execution_count": null,
      "metadata": {
        "id": "ZfytJlQ1TZ8v",
        "outputId": "4dc70736-2bed-49ac-d2ec-02699d7936d8"
      },
      "outputs": [
        {
          "data": {
            "text/plain": [
              "Timestamp('2020-01-10 00:00:00')"
            ]
          },
          "execution_count": 14,
          "metadata": {},
          "output_type": "execute_result"
        }
      ],
      "source": [
        "stamp=ts.index[1]\n",
        "stamp"
      ]
    },
    {
      "cell_type": "code",
      "execution_count": null,
      "metadata": {
        "id": "OwOi5wvhTZ8v",
        "outputId": "758dcf03-9556-4e24-e40d-3e95750573d2"
      },
      "outputs": [
        {
          "data": {
            "text/plain": [
              "0.1320158576081964"
            ]
          },
          "execution_count": 15,
          "metadata": {},
          "output_type": "execute_result"
        }
      ],
      "source": [
        "ts[stamp]"
      ]
    },
    {
      "cell_type": "code",
      "execution_count": null,
      "metadata": {
        "id": "GYAozV7DTZ8v",
        "outputId": "a1e4d84e-b79c-4e87-e4c4-154796350862"
      },
      "outputs": [
        {
          "data": {
            "text/plain": [
              "1.0438287426871447"
            ]
          },
          "execution_count": 16,
          "metadata": {},
          "output_type": "execute_result"
        }
      ],
      "source": [
        "ts[\"25.1.2020\"]"
      ]
    },
    {
      "cell_type": "code",
      "execution_count": null,
      "metadata": {
        "id": "ljr9M6XyTZ8v",
        "outputId": "398b51f1-fd4f-485c-e630-93c1eb58e086"
      },
      "outputs": [
        {
          "data": {
            "text/plain": [
              "1.0438287426871447"
            ]
          },
          "execution_count": 17,
          "metadata": {},
          "output_type": "execute_result"
        }
      ],
      "source": [
        "ts[\"20200125\"]"
      ]
    },
    {
      "cell_type": "code",
      "execution_count": null,
      "metadata": {
        "id": "HilmIz0VTZ8v",
        "outputId": "bf41714e-c42f-4115-e441-745625ee9098"
      },
      "outputs": [
        {
          "data": {
            "text/plain": [
              "2020-01-01   -0.563091\n",
              "2020-01-02   -0.696792\n",
              "2020-01-03   -1.171112\n",
              "2020-01-04    0.140425\n",
              "2020-01-05    1.861661\n",
              "Freq: D, dtype: float64"
            ]
          },
          "execution_count": 18,
          "metadata": {},
          "output_type": "execute_result"
        }
      ],
      "source": [
        "long_ts=pd.Series(\n",
        "    np.random.randn(1000),\n",
        "    index=pd.date_range(\"1/1/2020\",\n",
        "                        periods=1000))\n",
        "long_ts.head()"
      ]
    },
    {
      "cell_type": "code",
      "execution_count": null,
      "metadata": {
        "id": "QAh7DX2CTZ8v",
        "outputId": "0f9b2bc2-c5b8-401b-c528-6eff194f65d4"
      },
      "outputs": [
        {
          "data": {
            "text/plain": [
              "2020-01-01   -0.563091\n",
              "2020-01-02   -0.696792\n",
              "2020-01-03   -1.171112\n",
              "2020-01-04    0.140425\n",
              "2020-01-05    1.861661\n",
              "Freq: D, dtype: float64"
            ]
          },
          "execution_count": 19,
          "metadata": {},
          "output_type": "execute_result"
        }
      ],
      "source": [
        "long_ts[\"2020\"].head()"
      ]
    },
    {
      "cell_type": "code",
      "execution_count": null,
      "metadata": {
        "id": "YzwU9cRxTZ8v",
        "outputId": "07261730-f3c6-4f70-a1f2-25b3a24b36b0"
      },
      "outputs": [
        {
          "data": {
            "text/plain": [
              "2020-10-01   -0.074736\n",
              "2020-10-02   -0.376618\n",
              "2020-10-03    0.846641\n",
              "2020-10-04    0.625867\n",
              "2020-10-05   -0.723827\n",
              "2020-10-06    0.588691\n",
              "2020-10-07   -0.105803\n",
              "2020-10-08   -2.083312\n",
              "2020-10-09    1.587779\n",
              "2020-10-10   -1.055614\n",
              "2020-10-11   -1.249746\n",
              "2020-10-12   -0.501513\n",
              "2020-10-13   -1.527727\n",
              "2020-10-14    0.757313\n",
              "2020-10-15    1.649080\n",
              "Freq: D, dtype: float64"
            ]
          },
          "execution_count": 20,
          "metadata": {},
          "output_type": "execute_result"
        }
      ],
      "source": [
        "long_ts[\"2020-10\"].head(15)"
      ]
    },
    {
      "cell_type": "code",
      "execution_count": null,
      "metadata": {
        "id": "Zsq17RbOTZ8v",
        "outputId": "abfe96e4-a3d5-4d43-9268-1f9a45a86c5a"
      },
      "outputs": [
        {
          "data": {
            "text/plain": [
              "2022-09-20   -0.544946\n",
              "2022-09-21    0.724151\n",
              "2022-09-22   -0.733824\n",
              "2022-09-23    0.809910\n",
              "2022-09-24   -1.342181\n",
              "2022-09-25    0.311458\n",
              "2022-09-26   -1.724693\n",
              "Freq: D, dtype: float64"
            ]
          },
          "execution_count": 21,
          "metadata": {},
          "output_type": "execute_result"
        }
      ],
      "source": [
        "long_ts[datetime(2022,9,20):]"
      ]
    },
    {
      "cell_type": "markdown",
      "metadata": {
        "id": "ABx1uDZSTZ8v"
      },
      "source": [
        "## The Important Methods Used in Time Series"
      ]
    },
    {
      "cell_type": "code",
      "execution_count": null,
      "metadata": {
        "scrolled": true,
        "id": "fPwI-WirTZ8v",
        "outputId": "09a8be00-76cb-433f-9208-2e76305fd07f"
      },
      "outputs": [
        {
          "data": {
            "text/plain": [
              "2020-01-05    1.021772\n",
              "2020-01-10    0.132016\n",
              "2020-01-15   -0.838591\n",
              "2020-01-20   -0.749657\n",
              "2020-01-25    1.043829\n",
              "dtype: float64"
            ]
          },
          "execution_count": 22,
          "metadata": {},
          "output_type": "execute_result"
        }
      ],
      "source": [
        "ts"
      ]
    },
    {
      "cell_type": "code",
      "execution_count": null,
      "metadata": {
        "id": "t5riYoUNTZ8v",
        "outputId": "61251740-b955-4f6a-b297-ace8c02dbf11"
      },
      "outputs": [
        {
          "data": {
            "text/plain": [
              "2020-01-05    1.021772\n",
              "2020-01-10    0.132016\n",
              "2020-01-15   -0.838591\n",
              "dtype: float64"
            ]
          },
          "execution_count": 23,
          "metadata": {},
          "output_type": "execute_result"
        }
      ],
      "source": [
        "ts.truncate(after=\"1/15/2020\")"
      ]
    },
    {
      "cell_type": "code",
      "execution_count": null,
      "metadata": {
        "id": "yjgANEL8TZ8v"
      },
      "outputs": [],
      "source": [
        "date=pd.date_range(\"1/1/2020\",\n",
        "                   periods=100,\n",
        "                   freq=\"W-SUN\")"
      ]
    },
    {
      "cell_type": "code",
      "execution_count": null,
      "metadata": {
        "id": "s_diBGvhTZ8v",
        "outputId": "36968607-7174-4233-d41f-3df540abd1e4"
      },
      "outputs": [
        {
          "data": {
            "text/html": [
              "<div>\n",
              "<style scoped>\n",
              "    .dataframe tbody tr th:only-of-type {\n",
              "        vertical-align: middle;\n",
              "    }\n",
              "\n",
              "    .dataframe tbody tr th {\n",
              "        vertical-align: top;\n",
              "    }\n",
              "\n",
              "    .dataframe thead th {\n",
              "        text-align: right;\n",
              "    }\n",
              "</style>\n",
              "<table border=\"1\" class=\"dataframe\">\n",
              "  <thead>\n",
              "    <tr style=\"text-align: right;\">\n",
              "      <th></th>\n",
              "      <th>A</th>\n",
              "      <th>B</th>\n",
              "      <th>C</th>\n",
              "      <th>D</th>\n",
              "    </tr>\n",
              "  </thead>\n",
              "  <tbody>\n",
              "    <tr>\n",
              "      <th>2020-01-05</th>\n",
              "      <td>0.298570</td>\n",
              "      <td>0.541989</td>\n",
              "      <td>0.270855</td>\n",
              "      <td>0.812892</td>\n",
              "    </tr>\n",
              "    <tr>\n",
              "      <th>2020-01-12</th>\n",
              "      <td>0.559454</td>\n",
              "      <td>0.052274</td>\n",
              "      <td>-0.129981</td>\n",
              "      <td>-1.355922</td>\n",
              "    </tr>\n",
              "    <tr>\n",
              "      <th>2020-01-19</th>\n",
              "      <td>-0.936940</td>\n",
              "      <td>-1.359541</td>\n",
              "      <td>0.060583</td>\n",
              "      <td>0.055678</td>\n",
              "    </tr>\n",
              "    <tr>\n",
              "      <th>2020-01-26</th>\n",
              "      <td>1.413215</td>\n",
              "      <td>-1.267353</td>\n",
              "      <td>0.260763</td>\n",
              "      <td>1.158904</td>\n",
              "    </tr>\n",
              "    <tr>\n",
              "      <th>2020-02-02</th>\n",
              "      <td>-0.480138</td>\n",
              "      <td>1.104503</td>\n",
              "      <td>0.925559</td>\n",
              "      <td>-0.183879</td>\n",
              "    </tr>\n",
              "  </tbody>\n",
              "</table>\n",
              "</div>"
            ],
            "text/plain": [
              "                   A         B         C         D\n",
              "2020-01-05  0.298570  0.541989  0.270855  0.812892\n",
              "2020-01-12  0.559454  0.052274 -0.129981 -1.355922\n",
              "2020-01-19 -0.936940 -1.359541  0.060583  0.055678\n",
              "2020-01-26  1.413215 -1.267353  0.260763  1.158904\n",
              "2020-02-02 -0.480138  1.104503  0.925559 -0.183879"
            ]
          },
          "execution_count": 25,
          "metadata": {},
          "output_type": "execute_result"
        }
      ],
      "source": [
        "long_df=pd.DataFrame(np.random.randn(100,4),\n",
        "                    index=date,\n",
        "                    columns=list(\"ABCD\"))\n",
        "long_df.head()"
      ]
    },
    {
      "cell_type": "code",
      "execution_count": null,
      "metadata": {
        "id": "iz1yAFQiTZ8v",
        "outputId": "a7159717-bf09-4889-e5b6-3087edd50ec3"
      },
      "outputs": [
        {
          "data": {
            "text/html": [
              "<div>\n",
              "<style scoped>\n",
              "    .dataframe tbody tr th:only-of-type {\n",
              "        vertical-align: middle;\n",
              "    }\n",
              "\n",
              "    .dataframe tbody tr th {\n",
              "        vertical-align: top;\n",
              "    }\n",
              "\n",
              "    .dataframe thead th {\n",
              "        text-align: right;\n",
              "    }\n",
              "</style>\n",
              "<table border=\"1\" class=\"dataframe\">\n",
              "  <thead>\n",
              "    <tr style=\"text-align: right;\">\n",
              "      <th></th>\n",
              "      <th>A</th>\n",
              "      <th>B</th>\n",
              "      <th>C</th>\n",
              "      <th>D</th>\n",
              "    </tr>\n",
              "  </thead>\n",
              "  <tbody>\n",
              "    <tr>\n",
              "      <th>2020-10-04</th>\n",
              "      <td>0.273074</td>\n",
              "      <td>0.634981</td>\n",
              "      <td>-0.887838</td>\n",
              "      <td>0.148878</td>\n",
              "    </tr>\n",
              "    <tr>\n",
              "      <th>2020-10-11</th>\n",
              "      <td>0.108231</td>\n",
              "      <td>-0.053346</td>\n",
              "      <td>-0.520075</td>\n",
              "      <td>-1.125796</td>\n",
              "    </tr>\n",
              "    <tr>\n",
              "      <th>2020-10-18</th>\n",
              "      <td>-0.757139</td>\n",
              "      <td>-0.287251</td>\n",
              "      <td>-1.123849</td>\n",
              "      <td>1.163562</td>\n",
              "    </tr>\n",
              "    <tr>\n",
              "      <th>2020-10-25</th>\n",
              "      <td>0.550777</td>\n",
              "      <td>0.295018</td>\n",
              "      <td>0.622508</td>\n",
              "      <td>-0.551081</td>\n",
              "    </tr>\n",
              "  </tbody>\n",
              "</table>\n",
              "</div>"
            ],
            "text/plain": [
              "                   A         B         C         D\n",
              "2020-10-04  0.273074  0.634981 -0.887838  0.148878\n",
              "2020-10-11  0.108231 -0.053346 -0.520075 -1.125796\n",
              "2020-10-18 -0.757139 -0.287251 -1.123849  1.163562\n",
              "2020-10-25  0.550777  0.295018  0.622508 -0.551081"
            ]
          },
          "execution_count": 26,
          "metadata": {},
          "output_type": "execute_result"
        }
      ],
      "source": [
        "long_df[\"2020-10\"]"
      ]
    },
    {
      "cell_type": "code",
      "execution_count": null,
      "metadata": {
        "id": "xg5DEkJyTZ8v",
        "outputId": "66f51172-8483-4717-bec6-b7a43fd00e35"
      },
      "outputs": [
        {
          "data": {
            "text/plain": [
              "2020-01-01    0\n",
              "2020-01-02    1\n",
              "2020-01-02    2\n",
              "2020-01-02    3\n",
              "2020-01-03    4\n",
              "dtype: int32"
            ]
          },
          "execution_count": 27,
          "metadata": {},
          "output_type": "execute_result"
        }
      ],
      "source": [
        "date=pd.DatetimeIndex(\n",
        "    [\"1/1/2020\",\"1/2/2020\",\"1/2/2020\",\n",
        "     \"1/2/2020\",\"1/3/2020\"])\n",
        "ts1=pd.Series(np.arange(5),index=date)\n",
        "ts1"
      ]
    },
    {
      "cell_type": "code",
      "execution_count": null,
      "metadata": {
        "id": "AlZB1DKATZ8v",
        "outputId": "7f34b33f-3c83-40d6-d494-0288a4f8dd7d"
      },
      "outputs": [
        {
          "data": {
            "text/plain": [
              "False"
            ]
          },
          "execution_count": 28,
          "metadata": {},
          "output_type": "execute_result"
        }
      ],
      "source": [
        "ts1.index.is_unique"
      ]
    },
    {
      "cell_type": "code",
      "execution_count": null,
      "metadata": {
        "id": "gkJM5ehSTZ8v"
      },
      "outputs": [],
      "source": [
        "group=ts1.groupby(level=0)"
      ]
    },
    {
      "cell_type": "code",
      "execution_count": null,
      "metadata": {
        "id": "e6_l5G1JTZ8v",
        "outputId": "721a0195-2041-468a-d1f5-ebb04e0285a5"
      },
      "outputs": [
        {
          "data": {
            "text/plain": [
              "2020-01-01    1\n",
              "2020-01-02    3\n",
              "2020-01-03    1\n",
              "dtype: int64"
            ]
          },
          "execution_count": 30,
          "metadata": {},
          "output_type": "execute_result"
        }
      ],
      "source": [
        "group.count()"
      ]
    },
    {
      "cell_type": "code",
      "execution_count": null,
      "metadata": {
        "id": "hiOlqRPSTZ8v",
        "outputId": "81ed791e-40e4-4b42-bfdb-c172f998cdc8"
      },
      "outputs": [
        {
          "data": {
            "text/plain": [
              "2020-01-01    0\n",
              "2020-01-02    2\n",
              "2020-01-03    4\n",
              "dtype: int32"
            ]
          },
          "execution_count": 31,
          "metadata": {},
          "output_type": "execute_result"
        }
      ],
      "source": [
        "group.mean()"
      ]
    }
  ],
  "metadata": {
    "kernelspec": {
      "display_name": "Python 3 (ipykernel)",
      "language": "python",
      "name": "python3"
    },
    "language_info": {
      "codemirror_mode": {
        "name": "ipython",
        "version": 3
      },
      "file_extension": ".py",
      "mimetype": "text/x-python",
      "name": "python",
      "nbconvert_exporter": "python",
      "pygments_lexer": "ipython3",
      "version": "3.8.12"
    },
    "colab": {
      "provenance": [],
      "include_colab_link": true
    }
  },
  "nbformat": 4,
  "nbformat_minor": 0
}