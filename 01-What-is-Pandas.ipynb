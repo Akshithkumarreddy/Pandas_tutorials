{
  "cells": [
    {
      "cell_type": "markdown",
      "metadata": {
        "id": "view-in-github",
        "colab_type": "text"
      },
      "source": [
        "<a href=\"https://colab.research.google.com/github/Akshithkumarreddy/Pandas_tutorials/blob/main/01-What-is-Pandas.ipynb\" target=\"_parent\"><img src=\"https://colab.research.google.com/assets/colab-badge.svg\" alt=\"Open In Colab\"/></a>"
      ]
    },
    {
      "cell_type": "markdown",
      "metadata": {
        "id": "GxpEa78DOBfw"
      },
      "source": [
        "# What is Pandas?"
      ]
    },
    {
      "cell_type": "markdown",
      "metadata": {
        "id": "UeK084-jOBfx"
      },
      "source": [
        "Pandas is one of the most important libraries of Python.\n",
        "</br>\n",
        "Pandas has data structures for data analysis. The most used of these are Series and DataFrame data structures. Series is one dimensional, that is, it consists of a column. Data frame is two-dimensional, i.e. it consists of rows and columns."
      ]
    },
    {
      "cell_type": "markdown",
      "metadata": {
        "id": "bgm6cEe3OBfx"
      },
      "source": [
        "To install Pandas, you can use \"pip install pandas\""
      ]
    },
    {
      "cell_type": "code",
      "execution_count": null,
      "metadata": {
        "id": "aF4Xlg6wOBfx"
      },
      "outputs": [],
      "source": [
        "import pandas as pd # Let's import pandas with pd"
      ]
    },
    {
      "cell_type": "code",
      "execution_count": null,
      "metadata": {
        "id": "COiJsrk2OBfy",
        "outputId": "d4123d08-ea34-459f-cdca-a45cad1d6d6b"
      },
      "outputs": [
        {
          "data": {
            "text/plain": [
              "'1.1.3'"
            ]
          },
          "execution_count": 2,
          "metadata": {},
          "output_type": "execute_result"
        }
      ],
      "source": [
        "pd.__version__ # To print the installed vesion pandas"
      ]
    }
  ],
  "metadata": {
    "kernelspec": {
      "display_name": "Python 3 (ipykernel)",
      "language": "python",
      "name": "python3"
    },
    "language_info": {
      "codemirror_mode": {
        "name": "ipython",
        "version": 3
      },
      "file_extension": ".py",
      "mimetype": "text/x-python",
      "name": "python",
      "nbconvert_exporter": "python",
      "pygments_lexer": "ipython3",
      "version": "3.8.12"
    },
    "colab": {
      "provenance": [],
      "include_colab_link": true
    }
  },
  "nbformat": 4,
  "nbformat_minor": 0
}